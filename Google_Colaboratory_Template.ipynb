{
  "nbformat": 4,
  "nbformat_minor": 0,
  "metadata": {
    "colab": {
      "provenance": [],
      "collapsed_sections": [
        "8HM4eVa3UQCo"
      ],
      "authorship_tag": "ABX9TyNAt4pOFXmhS66fEec/U37n",
      "include_colab_link": true
    },
    "kernelspec": {
      "name": "python3",
      "display_name": "Python 3"
    },
    "language_info": {
      "name": "python"
    }
  },
  "cells": [
    {
      "cell_type": "markdown",
      "metadata": {
        "id": "view-in-github",
        "colab_type": "text"
      },
      "source": [
        "<a href=\"https://colab.research.google.com/github/ikhwanperwira/colab-template/blob/main/Google_Colaboratory_Template.ipynb\" target=\"_parent\"><img src=\"https://colab.research.google.com/assets/colab-badge.svg\" alt=\"Open In Colab\"/></a>"
      ]
    },
    {
      "cell_type": "markdown",
      "source": [
        "# Runtime Init"
      ],
      "metadata": {
        "id": "8HM4eVa3UQCo"
      }
    },
    {
      "cell_type": "markdown",
      "source": [
        "## Core Init"
      ],
      "metadata": {
        "id": "PzqC7X7ciaEL"
      }
    },
    {
      "cell_type": "code",
      "source": [
        "#@title Magic Cell: `run_once`\n",
        "from IPython.core.magic import register_cell_magic\n",
        "from IPython.display import display, HTML\n",
        "from google.colab import drive, userdata, output as __output\n",
        "import hashlib\n",
        "import time\n",
        "import os\n",
        "\n",
        "@register_cell_magic\n",
        "def run_once(__line: str, __cell: str):\n",
        "  \"\"\"\n",
        "  This custom cell magic command ensures that the notebook cell runs only once during the runtime or even the lifetime.\n",
        "  If the cell has already been executed before with identical code, it will display the previous output, saving time by avoiding redundant computations.\n",
        "  Usage: %%run_once\n",
        "  \"\"\"\n",
        "  try:\n",
        "\n",
        "    # Argument of this magic cell is specifying tracker directory.\n",
        "    __tracker_dir = __line\n",
        "    if len(__tracker_dir) == 0:\n",
        "      __tracker_dir = '.run_once' # Set default if not specified.\n",
        "\n",
        "    # Create tracker directory.\n",
        "    if not os.path.exists(__tracker_dir):\n",
        "      os.makedirs(__tracker_dir)\n",
        "\n",
        "    # Get cell ID by cell changes with SHA-1 as an identifier.\n",
        "    __cell_id = hashlib.sha1(__cell.encode('utf-8')).hexdigest()\n",
        "\n",
        "    # Check whether __cell_id.html already exists. (Imply the cell already runs)\n",
        "    if os.path.exists(f'{__tracker_dir}/{__cell_id}.html'):\n",
        "      with open(f'{__tracker_dir}/{__cell_id}.html', 'r') as __file_cell_output:\n",
        "        __html_output = __file_cell_output.read()\n",
        "      __last_created = time.strftime('%Y-%m-%d %H:%M:%S UTC+00', time.gmtime(os.path.getctime(f'{__tracker_dir}/{__cell_id}.html')))\n",
        "      print(f'This cell ({__cell_id}) already ran before, the last run was ', __last_created, ', displaying history output...\\n', sep='')\n",
        "      display(HTML(__html_output))\n",
        "      return # Don't do any computations.\n",
        "\n",
        "    # Actual compute\n",
        "    get_ipython().run_cell(__cell)\n",
        "\n",
        "    # After the code has been executed, it will contain some output. Save it!\n",
        "    __html_output = __output.eval_js('document.getElementById(\"output-area\").innerHTML;')\n",
        "    with open(f'{__tracker_dir}/{__cell_id}.html', 'w') as __file_cell_output:\n",
        "      __file_cell_output.write(__html_output)\n",
        "\n",
        "    # Also, save the cell code for archive purposes.\n",
        "    with open(f'{__tracker_dir}/{__cell_id}.cell.py', 'w') as __file_cell_input:\n",
        "      __file_cell_input.write(__cell)\n",
        "\n",
        "    # Notify where the history is saved.\n",
        "    print(f'\\nThe cell code and output history pair have been saved at {__tracker_dir}/{__cell_id}')\n",
        "\n",
        "  except Exception as e:\n",
        "    print(f\"run_once error: {str(e)}\")"
      ],
      "metadata": {
        "cellView": "form",
        "id": "7nLTqFEyWGRF"
      },
      "execution_count": 1,
      "outputs": []
    },
    {
      "cell_type": "code",
      "source": [
        "#@title Google Drive Mount\n",
        "%%run_once\n",
        "\n",
        "# Ask Secret\n",
        "try:\n",
        "  _ = os.path.join('/content/drive/MyDrive', userdata.get('GD_BASEPATH')) # GD basepath, e.g.: my_project/my_subproject, note that the path must be exists in Google Drive, create manually in GD if not exists!\n",
        "  print(f\"GD_BASEPATH is found: {_}\")\n",
        "  __ = userdata.get('PROJECT_REF') # Colaboratory link reference for GD workspace, fill with current colaboratory link!\n",
        "except (userdata.SecretNotFoundError, userdata.NotebookAccessError):\n",
        "  print(\"GD_BASEPATH and PROJECT_REF secrets are not found or permission denied.\")\n",
        "\n",
        "# Mounting\n",
        "drive.mount('/content/drive', force_remount=True)\n",
        "\n",
        "# Google Drive workspace directory\n",
        "!rm -rf gd\n",
        "!mkdir gd\n",
        "\n",
        "# Link to workspace\n",
        "!ln -s {_}/* gd/\n",
        "\n",
        "# Append mark reference to text file\n",
        "!echo \"{time.time()} -> {__}\" >> gd/colab_ref.txt"
      ],
      "metadata": {
        "colab": {
          "base_uri": "https://localhost:8080/",
          "height": 86
        },
        "cellView": "form",
        "id": "_PU4bHJ2Xdab",
        "outputId": "ccc56195-fc0e-40de-f4da-147c2a3de294"
      },
      "execution_count": 4,
      "outputs": [
        {
          "output_type": "stream",
          "name": "stdout",
          "text": [
            "This cell (eef9f2d1c1132c217347226c015cec931fab0242) already ran before, the last run was 2024-09-26 08:48:49 UTC+00, displaying history output...\n",
            "\n"
          ]
        },
        {
          "output_type": "display_data",
          "data": {
            "text/plain": [
              "<IPython.core.display.HTML object>"
            ],
            "text/html": [
              "<span id=\"output-header\"> </span><div id=\"output-body\"><div class=\"stream output-id-2\"><div class=\"output_subarea output_text\"><pre>GD_BASEPATH is found: /content/drive/MyDrive/signal-batch-5-progress/atrial-delineation\n",
              "Mounted at /content/drive\n",
              "</pre></div></div></div><span id=\"output-footer\"></span>"
            ]
          },
          "metadata": {}
        }
      ]
    },
    {
      "cell_type": "code",
      "source": [
        "#@title Remove Default `sample_data`\n",
        "%%run_once\n",
        "\n",
        "!rm -rf sample_data"
      ],
      "metadata": {
        "colab": {
          "base_uri": "https://localhost:8080/",
          "height": 52
        },
        "cellView": "form",
        "id": "Q59hAvlBfZvt",
        "outputId": "51f06bae-cbfe-43b0-9ddd-ec1620daeb45"
      },
      "execution_count": 5,
      "outputs": [
        {
          "output_type": "stream",
          "name": "stdout",
          "text": [
            "\n",
            "The cell code and output history pair have been saved at .run_once/1cbb75fc62da077172c44e8e32957bcfa3430968\n"
          ]
        }
      ]
    },
    {
      "cell_type": "markdown",
      "source": [
        "## Userspace Init"
      ],
      "metadata": {
        "id": "b6PC1zcHid22"
      }
    },
    {
      "cell_type": "code",
      "source": [
        "#@title Package Upgrade\n",
        "%%run_once\n",
        "\n",
        "UPGRADE_KERAS = True #@param {type:\"boolean\"}\n",
        "\n",
        "if UPGRADE_KERAS:\n",
        "  !pip install --upgrade tensorflow tf-keras keras\n",
        "\n",
        "# Add another user runtime init..."
      ],
      "metadata": {
        "cellView": "form",
        "id": "_2_ZamujhrBu"
      },
      "execution_count": null,
      "outputs": []
    },
    {
      "cell_type": "markdown",
      "source": [
        "# Main\n",
        "\n",
        "_Run Before (CTRL+F8)_ here to init the runtime..."
      ],
      "metadata": {
        "id": "25TkliB2WEOh"
      }
    },
    {
      "cell_type": "code",
      "source": [
        "#@title Main Program\n",
        "\n",
        "print(\"Hello World!\")"
      ],
      "metadata": {
        "colab": {
          "base_uri": "https://localhost:8080/"
        },
        "cellView": "form",
        "id": "RMAluQFXiAnW",
        "outputId": "01a69498-f01f-4500-b051-f1316a5f5afc"
      },
      "execution_count": 6,
      "outputs": [
        {
          "output_type": "stream",
          "name": "stdout",
          "text": [
            "Hello World!\n"
          ]
        }
      ]
    },
    {
      "cell_type": "code",
      "source": [
        "#@title Store Long Computation Output History Permanently\n",
        "%%run_once gd/.run_once\n",
        "\n",
        "print('My long computation has successfully computed!')"
      ],
      "metadata": {
        "colab": {
          "base_uri": "https://localhost:8080/",
          "height": 69
        },
        "cellView": "form",
        "id": "DaFiVZS1j9RE",
        "outputId": "a6737775-b045-48a4-f1ea-c3ecba05fbf3"
      },
      "execution_count": 8,
      "outputs": [
        {
          "output_type": "stream",
          "name": "stdout",
          "text": [
            "This cell (80e9dd6523ef7bded59d639a8fd60d2310cface2) already ran before, the last run was 2024-09-26 09:03:04 UTC+00, displaying history output...\n",
            "\n"
          ]
        },
        {
          "output_type": "display_data",
          "data": {
            "text/plain": [
              "<IPython.core.display.HTML object>"
            ],
            "text/html": [
              "<span id=\"output-header\"> </span><div id=\"output-body\"><div class=\"stream output-id-1\"><div class=\"output_subarea output_text\"><pre>My long computation has successfully computed!\n",
              "</pre></div></div></div><span id=\"output-footer\"></span>"
            ]
          },
          "metadata": {}
        }
      ]
    }
  ]
}